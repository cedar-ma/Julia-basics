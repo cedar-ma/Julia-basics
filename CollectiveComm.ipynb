{
 "cells": [
  {
   "cell_type": "code",
   "execution_count": 2,
   "id": "1f5a3ead",
   "metadata": {},
   "outputs": [],
   "source": [
    "using MPI"
   ]
  },
  {
   "cell_type": "code",
   "execution_count": 17,
   "id": "9cc2de1d",
   "metadata": {},
   "outputs": [
    {
     "data": {
      "text/plain": [
       "1"
      ]
     },
     "execution_count": 17,
     "metadata": {},
     "output_type": "execute_result"
    }
   ],
   "source": [
    "MPI.Init()\n",
    "comm = MPI.COMM_WORLD\n",
    "rank = MPI.Comm_rank(comm)\n",
    "size = MPI.Comm_size(comm)\n",
    "\n",
    "len = length(strain)\n",
    "lengths = nothing\n",
    "offset = nothing\n",
    "\n",
    "if rank == 0\n",
    "    lengths = "
   ]
  },
  {
   "cell_type": "code",
   "execution_count": 21,
   "id": "a5c9f9ee",
   "metadata": {},
   "outputs": [
    {
     "name": "stdout",
     "output_type": "stream",
     "text": [
      "Hello World, I am 0 of 1\n"
     ]
    }
   ],
   "source": [
    "print(\"Hello World, I am $(rank) of $(size)\\n\")"
   ]
  },
  {
   "cell_type": "markdown",
   "id": "b40fc59d",
   "metadata": {},
   "source": [
    "### Scatter"
   ]
  },
  {
   "cell_type": "code",
   "execution_count": 19,
   "id": "9ff6ce09",
   "metadata": {},
   "outputs": [
    {
     "name": "stdout",
     "output_type": "stream",
     "text": [
      "Original array on rack 0:\n",
      " [100]\n",
      "\n"
     ]
    },
    {
     "data": {
      "text/plain": [
       "100"
      ]
     },
     "execution_count": 19,
     "metadata": {},
     "output_type": "execute_result"
    }
   ],
   "source": [
    "send_buf = nothing\n",
    "if rank == 0\n",
    "    send_buf = collect(1:size).*100\n",
    "    println(\"Original array on rack 0:\\n $(send_buf)\\n\")\n",
    "end\n",
    "recv_buf = MPI.Scatter(send_buf,Int,comm; root=0)\n",
    "print(\"I got this on rank $(rank):\\n $(recv_buf)\\n\")"
   ]
  },
  {
   "cell_type": "markdown",
   "id": "328505e4",
   "metadata": {},
   "source": [
    "### Scatter!"
   ]
  },
  {
   "cell_type": "code",
   "execution_count": 22,
   "id": "135644ea",
   "metadata": {},
   "outputs": [
    {
     "name": "stdout",
     "output_type": "stream",
     "text": [
      "Original array on rack 0:\n",
      " [0.11513063969295145;;]\n",
      "I got this on rank 0:\n",
      " [0.11513063969295145]\n"
     ]
    }
   ],
   "source": [
    "send_buf = nothing\n",
    "recv_buf = Vector{Float64}(undef,size)\n",
    "if rank == 0\n",
    "    send_buf = rand(Float64,(size,size))\n",
    "    print(\"Original array on rack 0:\\n $(send_buf)\\n\")\n",
    "end\n",
    "\n",
    "MPI.Scatter!(send_buf,recv_buf,comm;root=0)\n",
    "print(\"I got this on rank $(rank):\\n $(recv_buf)\\n\")"
   ]
  },
  {
   "cell_type": "markdown",
   "id": "92f8cc65",
   "metadata": {},
   "source": [
    "### Scatterv!"
   ]
  },
  {
   "cell_type": "code",
   "execution_count": null,
   "id": "10312943",
   "metadata": {},
   "outputs": [],
   "source": [
    "send_buf = nothing\n",
    "\n",
    "if rank == 0\n",
    "    send_buf = rand(Float64,(size,size))\n",
    "    recv_buf = Vector{Float64}(undef,size-1)\n",
    "    print(\"Original array on rack 0:\\n $(send_buf)\\n\")\n",
    "else\n",
    "    recv_buf = Vector{Float64}(undef,size+1)\n",
    "end\n",
    "\n",
    "lengths = [size-1, size+1]\n",
    "offsets = [0,size-1]  #index\n",
    "\n",
    "MPI.Scatterv!(VBuffer(send_buf,lengths, offsets, MPI.DOUBLE),recv_buf,comm;root=0)\n",
    "print(\"I got this on rank $(rank):\\n $(recv_buf)\\n\")"
   ]
  },
  {
   "cell_type": "markdown",
   "id": "67fe0d10",
   "metadata": {},
   "source": [
    "### Gather"
   ]
  },
  {
   "cell_type": "code",
   "execution_count": 23,
   "id": "39cefbd4",
   "metadata": {},
   "outputs": [
    {
     "name": "stdout",
     "output_type": "stream",
     "text": [
      "Original array on rack 0:\n",
      " [100]\n",
      "\n",
      "I got this on rank 0:\n",
      " 100\n",
      "New array on rank 0:\n",
      " [10000]"
     ]
    }
   ],
   "source": [
    "send_buf = nothing\n",
    "if rank == 0\n",
    "    send_buf = collect(1:size).*100\n",
    "    println(\"Original array on rack 0:\\n $(send_buf)\\n\")\n",
    "end\n",
    "v = MPI.Scatter(send_buf,Int,comm; root=0)\n",
    "print(\"I got this on rank $(rank):\\n $(v)\\n\")\n",
    "\n",
    "v = v*v\n",
    "recv_buf = MPI.Gather(v,comm;root=0)\n",
    "if rank == 0\n",
    "    print(\"New array on rank 0:\\n $(recv_buf)\")\n",
    "end"
   ]
  },
  {
   "cell_type": "markdown",
   "id": "5b08f002",
   "metadata": {},
   "source": [
    "### Broadcast"
   ]
  },
  {
   "cell_type": "code",
   "execution_count": 24,
   "id": "69fe250e",
   "metadata": {},
   "outputs": [
    {
     "name": "stdout",
     "output_type": "stream",
     "text": [
      "Rank 0 received this message:\n",
      " Hello from rank 0\n",
      "\n"
     ]
    }
   ],
   "source": [
    "send_buf = nothing\n",
    "\n",
    "if rank == 0\n",
    "    send_buf = \"Hello from rank 0\\n\"\n",
    "end\n",
    "\n",
    "recv_buf = MPI.bcast(send_buf,comm;root=0)\n",
    "println(\"Rank $(rank) received this message:\\n $(recv_buf)\")"
   ]
  },
  {
   "cell_type": "markdown",
   "id": "ddcd49dd",
   "metadata": {},
   "source": [
    "### Reduce"
   ]
  },
  {
   "cell_type": "code",
   "execution_count": null,
   "id": "e4bad32a",
   "metadata": {},
   "outputs": [],
   "source": [
    "v = collect(1:size)\n",
    "println(\"Original array on rank $(rank):\\n $(v)\")\n",
    "\n",
    "recv_buf = MPI.Reduce(v, +, comm;root=0)\n",
    "\n",
    "if rank ==0\n",
    "    println(\"New array on rank 0 :\\n $(recv_buf)\")\n",
    "    total_sum = sum(recv_buf)\n",
    "    print(\"total sum: $(total_sum)\")\n",
    "end\n",
    "    "
   ]
  },
  {
   "cell_type": "code",
   "execution_count": null,
   "id": "384a8c72",
   "metadata": {},
   "outputs": [],
   "source": []
  },
  {
   "cell_type": "code",
   "execution_count": null,
   "id": "4f9ffa0f",
   "metadata": {},
   "outputs": [],
   "source": []
  }
 ],
 "metadata": {
  "kernelspec": {
   "display_name": "Julia 1.8.5",
   "language": "julia",
   "name": "julia-1.8"
  },
  "language_info": {
   "file_extension": ".jl",
   "mimetype": "application/julia",
   "name": "julia",
   "version": "1.8.5"
  }
 },
 "nbformat": 4,
 "nbformat_minor": 5
}
