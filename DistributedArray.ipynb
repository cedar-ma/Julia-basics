{
 "cells": [
  {
   "cell_type": "code",
   "execution_count": 2,
   "id": "798a2f9a",
   "metadata": {},
   "outputs": [],
   "source": [
    "using Distributed\n",
    "using DistributedArrays"
   ]
  },
  {
   "cell_type": "code",
   "execution_count": 3,
   "id": "a4d85257",
   "metadata": {},
   "outputs": [],
   "source": [
    "@everywhere using DistributedArrays"
   ]
  },
  {
   "cell_type": "code",
   "execution_count": 9,
   "id": "5bbe54c4",
   "metadata": {},
   "outputs": [
    {
     "name": "stdout",
     "output_type": "stream",
     "text": [
      "sum(a) = 10.0\n"
     ]
    },
    {
     "data": {
      "text/plain": [
       "10.0"
      ]
     },
     "execution_count": 9,
     "metadata": {},
     "output_type": "execute_result"
    }
   ],
   "source": [
    "a = dones(10)\n",
    "@show sum(a)"
   ]
  },
  {
   "cell_type": "code",
   "execution_count": 4,
   "id": "c48b1053",
   "metadata": {},
   "outputs": [
    {
     "name": "stdout",
     "output_type": "stream",
     "text": [
      "[\"On worker 1: [1.0, 1.0, 1.0, 1.0, 1.0, 1.0, 1.0, 1.0, 1.0, 1.0]\"]"
     ]
    }
   ],
   "source": [
    "print([@fetchfrom p \"On worker $(myid()): $(localpart(a) .* myid())\" for p in workers()])"
   ]
  },
  {
   "cell_type": "code",
   "execution_count": 10,
   "id": "62fdfecb",
   "metadata": {},
   "outputs": [
    {
     "name": "stdout",
     "output_type": "stream",
     "text": [
      "[\"On worker 1: [20, 20, 20, 20, 20, 20, 20, 20, 20, 20]\"]"
     ]
    }
   ],
   "source": [
    "a = dfill(20, (10,), procs(), [nprocs()])\n",
    "print([@fetchfrom p \"On worker $(myid()): $(localpart(a) .* myid())\" for p in procs()])"
   ]
  },
  {
   "cell_type": "markdown",
   "id": "558340d6",
   "metadata": {},
   "source": [
    "### create a DArray from a local array"
   ]
  },
  {
   "cell_type": "code",
   "execution_count": 4,
   "id": "ff2b6b43",
   "metadata": {},
   "outputs": [
    {
     "data": {
      "text/plain": [
       "10-element DArray{Float64, 1, Vector{Float64}}:\n",
       "  1.0\n",
       "  2.0\n",
       "  3.0\n",
       "  4.0\n",
       "  5.0\n",
       "  6.0\n",
       "  7.0\n",
       "  8.0\n",
       "  9.0\n",
       " 10.0"
      ]
     },
     "execution_count": 4,
     "metadata": {},
     "output_type": "execute_result"
    }
   ],
   "source": [
    "a = collect(1:10.0)\n",
    "b = distribute(a; procs=procs(), dist=[nprocs()])\n"
   ]
  },
  {
   "cell_type": "code",
   "execution_count": 5,
   "id": "8641c4d6",
   "metadata": {},
   "outputs": [
    {
     "ename": "LoadError",
     "evalue": "syntax: cannot juxtapose string literal",
     "output_type": "error",
     "traceback": [
      "syntax: cannot juxtapose string literal",
      "",
      "Stacktrace:",
      " [1] top-level scope",
      "   @ In[5]:1"
     ]
    }
   ],
   "source": [
    "print([@fetchfrom p \"On worker $(myid()): $(localpart(b)\" for p in procs()]) "
   ]
  },
  {
   "cell_type": "code",
   "execution_count": null,
   "id": "a355a0a2",
   "metadata": {},
   "outputs": [],
   "source": []
  },
  {
   "cell_type": "code",
   "execution_count": null,
   "id": "da989b03",
   "metadata": {},
   "outputs": [],
   "source": []
  },
  {
   "cell_type": "code",
   "execution_count": null,
   "id": "12da88c4",
   "metadata": {},
   "outputs": [],
   "source": []
  }
 ],
 "metadata": {
  "kernelspec": {
   "display_name": "Julia 1.8.5",
   "language": "julia",
   "name": "julia-1.8"
  },
  "language_info": {
   "file_extension": ".jl",
   "mimetype": "application/julia",
   "name": "julia",
   "version": "1.8.5"
  }
 },
 "nbformat": 4,
 "nbformat_minor": 5
}
