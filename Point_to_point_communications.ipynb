{
 "cells": [
  {
   "cell_type": "code",
   "execution_count": 1,
   "id": "0907378b",
   "metadata": {},
   "outputs": [
    {
     "data": {
      "text/plain": [
       "MPI.ThreadLevel(2)"
      ]
     },
     "execution_count": 1,
     "metadata": {},
     "output_type": "execute_result"
    }
   ],
   "source": [
    "using MPI\n",
    "MPI.Init()"
   ]
  },
  {
   "cell_type": "code",
   "execution_count": 2,
   "id": "5762c374",
   "metadata": {},
   "outputs": [
    {
     "data": {
      "text/plain": [
       "1"
      ]
     },
     "execution_count": 2,
     "metadata": {},
     "output_type": "execute_result"
    }
   ],
   "source": [
    "comm = MPI.COMM_WORLD\n",
    "rank = MPI.Comm_rank(comm)\n",
    "size = MPI.Comm_size(comm)"
   ]
  },
  {
   "cell_type": "markdown",
   "id": "798cf762",
   "metadata": {},
   "source": [
    "#### send/recv"
   ]
  },
  {
   "cell_type": "code",
   "execution_count": 3,
   "id": "5b81deaa",
   "metadata": {},
   "outputs": [],
   "source": [
    "struct Point\n",
    "    x::Float64\n",
    "    y::Float64\n",
    "end"
   ]
  },
  {
   "cell_type": "code",
   "execution_count": null,
   "id": "760bbcc0",
   "metadata": {},
   "outputs": [],
   "source": [
    "p = Point(rank,rank)\n",
    "\n",
    "if rank == 0\n",
    "    MPI.send(p,comm; dest=1)\n",
    "elseif rank>0\n",
    "    data = MPI.recv(comm; source=(rank-1))\n",
    "    MPI.send(p,comm; dest = (rank+1)%size)\n",
    "end\n",
    "if rank ==0\n",
    "    data = MPI.recv(comm; source = (size-1))\n",
    "end\n",
    "\n",
    "print(\"MY rank is $(rank)\\n I received this: $(data)\\n\")\n",
    "MPI.Barrier(comm)"
   ]
  },
  {
   "cell_type": "markdown",
   "id": "0253d1d6",
   "metadata": {},
   "source": [
    "#### Send/Recv!  receiving into buffers"
   ]
  },
  {
   "cell_type": "code",
   "execution_count": null,
   "id": "176af8b2",
   "metadata": {},
   "outputs": [],
   "source": [
    "send_buf = Array{Float64}(undef,10)\n",
    "recv_buf = Array{Float64}(undef,10)\n",
    "\n",
    "fill!(send_buf, Float64(rank))"
   ]
  },
  {
   "cell_type": "code",
   "execution_count": null,
   "id": "611e44b9",
   "metadata": {},
   "outputs": [],
   "source": [
    "if rank == 0\n",
    "    MPI.Send(send_buf,comm; dest=1)\n",
    "elseif rank>0\n",
    "    MPI.Recv!(recv_buf, comm; source=(rank-1))\n",
    "    MPI.Send(send_buf,comm; dest = (rank+1)%size)\n",
    "end\n",
    "if rank ==0\n",
    "    PI.Recv!(recv_buf, comm; source = (size-1))\n",
    "end\n",
    "\n",
    "print(\"MY rank is $(rank)\\n I received this: $(recv_buf)\\n\")\n",
    "MPI.Barrier(comm)"
   ]
  },
  {
   "cell_type": "markdown",
   "id": "47a3bc53",
   "metadata": {},
   "source": [
    "#### Isend/Irecv!   non-blocking send and receive"
   ]
  },
  {
   "cell_type": "code",
   "execution_count": null,
   "id": "880c7a3e",
   "metadata": {},
   "outputs": [],
   "source": [
    "if rank == 0\n",
    "    send_status = MPI.Isend(send_buf,comm; dest=1)\n",
    "elseif rank>0\n",
    "    recv_status = MPI.Irecv!(recv_buf, comm; source=(rank-1))\n",
    "    send_status = MPI.Isend(send_buf,comm; dest = (rank+1)%size)\n",
    "end\n",
    "if rank ==0\n",
    "    recv_status = MPI.Irecv!(recv_buf, comm; source = (size-1))\n",
    "end\n",
    "\n",
    "status = MPI.Waitall!([send_status, recv_status])\n",
    "\n",
    "print(\"MY rank is $(rank)\\n I received this: $(recv_buf)\\n\")"
   ]
  }
 ],
 "metadata": {
  "kernelspec": {
   "display_name": "Julia 1.8.5",
   "language": "julia",
   "name": "julia-1.8"
  },
  "language_info": {
   "file_extension": ".jl",
   "mimetype": "application/julia",
   "name": "julia",
   "version": "1.8.5"
  }
 },
 "nbformat": 4,
 "nbformat_minor": 5
}
