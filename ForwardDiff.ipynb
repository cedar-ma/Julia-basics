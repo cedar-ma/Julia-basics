{
 "cells": [
  {
   "cell_type": "code",
   "execution_count": 1,
   "id": "2e5d54fe",
   "metadata": {},
   "outputs": [],
   "source": [
    "using ForwardDiff"
   ]
  },
  {
   "cell_type": "code",
   "execution_count": 2,
   "id": "659a8b71",
   "metadata": {},
   "outputs": [
    {
     "data": {
      "text/plain": [
       "18"
      ]
     },
     "execution_count": 2,
     "metadata": {},
     "output_type": "execute_result"
    }
   ],
   "source": [
    "f(x) = 3*x^2\n",
    "ForwardDiff.derivative(f,3)"
   ]
  },
  {
   "cell_type": "code",
   "execution_count": 3,
   "id": "f85786fc",
   "metadata": {},
   "outputs": [
    {
     "data": {
      "text/plain": [
       "f! (generic function with 1 method)"
      ]
     },
     "execution_count": 3,
     "metadata": {},
     "output_type": "execute_result"
    }
   ],
   "source": [
    "function f!(y,x)\n",
    "    y[1]=3*x^2\n",
    "    y[2]=x^4\n",
    "    nothing\n",
    "end"
   ]
  },
  {
   "cell_type": "code",
   "execution_count": 4,
   "id": "30afa144",
   "metadata": {},
   "outputs": [
    {
     "name": "stdout",
     "output_type": "stream",
     "text": [
      "y = [27.0, 81.0]\n"
     ]
    },
    {
     "data": {
      "text/plain": [
       "2-element Vector{Float64}:\n",
       " 27.0\n",
       " 81.0"
      ]
     },
     "execution_count": 4,
     "metadata": {},
     "output_type": "execute_result"
    }
   ],
   "source": [
    "y=[0.0,0.0]\n",
    "f!(y,3)\n",
    "@show y"
   ]
  },
  {
   "cell_type": "code",
   "execution_count": 5,
   "id": "72aa1e92",
   "metadata": {},
   "outputs": [
    {
     "data": {
      "text/plain": [
       "2-element Vector{Float64}:\n",
       "  18.0\n",
       " 108.0"
      ]
     },
     "execution_count": 5,
     "metadata": {},
     "output_type": "execute_result"
    }
   ],
   "source": [
    "y=[0.0,0.0]\n",
    "ForwardDiff.derivative(f!,y,3)"
   ]
  },
  {
   "cell_type": "markdown",
   "id": "70994fdb",
   "metadata": {},
   "source": [
    "#### store in to dy using !"
   ]
  },
  {
   "cell_type": "code",
   "execution_count": 7,
   "id": "a4515c52",
   "metadata": {},
   "outputs": [
    {
     "name": "stdout",
     "output_type": "stream",
     "text": [
      "dy = [18.0, 108.0]\n"
     ]
    },
    {
     "data": {
      "text/plain": [
       "2-element Vector{Float64}:\n",
       "  18.0\n",
       " 108.0"
      ]
     },
     "execution_count": 7,
     "metadata": {},
     "output_type": "execute_result"
    }
   ],
   "source": [
    "dy=[0.0,0.0]\n",
    "y = [0.0, 0.0]\n",
    "ForwardDiff.derivative!(dy,f!,y,3)\n",
    "@show dy"
   ]
  },
  {
   "cell_type": "code",
   "execution_count": 8,
   "id": "8757ac49",
   "metadata": {},
   "outputs": [
    {
     "data": {
      "text/plain": [
       "19.0"
      ]
     },
     "execution_count": 8,
     "metadata": {},
     "output_type": "execute_result"
    }
   ],
   "source": [
    "g(x) = 3 * x[1]^2 + x[2]^4\n",
    "g([1.0,2.0])"
   ]
  },
  {
   "cell_type": "code",
   "execution_count": 9,
   "id": "35b28ecc",
   "metadata": {},
   "outputs": [
    {
     "data": {
      "text/plain": [
       "2-element Vector{Float64}:\n",
       "  6.0\n",
       " 32.0"
      ]
     },
     "execution_count": 9,
     "metadata": {},
     "output_type": "execute_result"
    }
   ],
   "source": [
    "ForwardDiff.gradient(g, [1.0,2.0])"
   ]
  },
  {
   "cell_type": "code",
   "execution_count": 13,
   "id": "7ece4426",
   "metadata": {},
   "outputs": [
    {
     "data": {
      "text/plain": [
       "2-element Vector{Float64}:\n",
       "   6.0\n",
       " 128.0"
      ]
     },
     "execution_count": 13,
     "metadata": {},
     "output_type": "execute_result"
    }
   ],
   "source": [
    "h(x,p) = p[1] * x[1]^2 +p[2] * x[2]^4\n",
    "h( [1.0, 2.0],[3.0,1.0])\n",
    "ForwardDiff.gradient(x -> h(x,[3.0,4.0]), [1.0, 2.0])"
   ]
  },
  {
   "cell_type": "code",
   "execution_count": 14,
   "id": "aed797ee",
   "metadata": {},
   "outputs": [
    {
     "data": {
      "text/plain": [
       "2-element Vector{Float64}:\n",
       " 27.0\n",
       "  3.0"
      ]
     },
     "execution_count": 14,
     "metadata": {},
     "output_type": "execute_result"
    }
   ],
   "source": [
    "function f2(x)\n",
    "    [3 * x[1]^2, x[1] * x[2]^4]\n",
    "end\n",
    "f2([3.0,1.0])"
   ]
  },
  {
   "cell_type": "code",
   "execution_count": 15,
   "id": "f86a58fc",
   "metadata": {},
   "outputs": [
    {
     "data": {
      "text/plain": [
       "2×2 Matrix{Float64}:\n",
       " 18.0   0.0\n",
       "  1.0  12.0"
      ]
     },
     "execution_count": 15,
     "metadata": {},
     "output_type": "execute_result"
    }
   ],
   "source": [
    "ForwardDiff.jacobian(f2,[3.0,1.0])"
   ]
  },
  {
   "cell_type": "code",
   "execution_count": null,
   "id": "807ea441",
   "metadata": {},
   "outputs": [],
   "source": []
  }
 ],
 "metadata": {
  "kernelspec": {
   "display_name": "Julia 1.8.5",
   "language": "julia",
   "name": "julia-1.8"
  },
  "language_info": {
   "file_extension": ".jl",
   "mimetype": "application/julia",
   "name": "julia",
   "version": "1.8.5"
  }
 },
 "nbformat": 4,
 "nbformat_minor": 5
}
